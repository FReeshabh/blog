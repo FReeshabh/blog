{
 "cells": [
  {
   "cell_type": "markdown",
   "metadata": {},
   "source": [
    "# \"My first machine learning hackathon. Finishing #2 on both challenges \"\n",
    "> \"My first machine learning hackathon, and my almost win\"\n",
    "\n",
    "- toc: true\n",
    "- branch: master\n",
    "- badges: true\n",
    "- comments: true\n",
    "- categories: [advice, hackathon, machine-learning]\n",
    "- image: images/codeml/codeML.jpeg\n",
    "- hide: false"
   ]
  },
  {
   "cell_type": "markdown",
   "metadata": {},
   "source": [
    "## Challenges in this Hackathon\n",
    "\n",
    "This past weekend I participated in the CodeML hackathon, which was my first machine learning hackathon experience. Given this blog post, is about a machine learning hackathon, I feel that it's quite apt to write this blog in Jupyter Notebooks. \n",
    "\n",
    "There were 6 challenges hosted on Kaggle, and they were:\n",
    "\n",
    "1. Celestial Body Clustering\n",
    "2. Anomaly Detection\n",
    "3. Reddit comments classification\n",
    "4. Sentiment Analysis\n",
    "5. Image Classification\n",
    "6. Easy Imagenet Classification (Or as I later found out, it was not really Imagenet)\n",
    "\n",
    "I tried my hand at Challenge 5, and Challenge 6. And this blog post documents my experience with these challenges."
   ]
  },
  {
   "cell_type": "markdown",
   "metadata": {},
   "source": []
  }
 ],
 "metadata": {
  "kernelspec": {
   "display_name": "Python 3",
   "language": "python",
   "name": "python3"
  },
  "language_info": {
   "codemirror_mode": {
    "name": "ipython",
    "version": 3
   },
   "file_extension": ".py",
   "mimetype": "text/x-python",
   "name": "python",
   "nbconvert_exporter": "python",
   "pygments_lexer": "ipython3",
   "version": "3.8.6"
  }
 },
 "nbformat": 4,
 "nbformat_minor": 4
}
